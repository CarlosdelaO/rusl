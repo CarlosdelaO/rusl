{
  "nbformat": 4,
  "nbformat_minor": 0,
  "metadata": {
    "colab": {
      "name": "RUSLE_MG_EJR_1.ipynb",
      "provenance": [],
      "collapsed_sections": []
    },
    "kernelspec": {
      "name": "python3",
      "display_name": "Python 3"
    },
    "language_info": {
      "name": "python"
    }
  },
  "cells": [
    {
      "cell_type": "code",
      "metadata": {
        "id": "JDqESNKs428g",
        "colab": {
          "base_uri": "https://localhost:8080/"
        },
        "outputId": "3845becd-ac16-4e86-ce3e-97bcfee38b5b"
      },
      "source": [
        "import ee\n",
        "ee.Authenticate()\n",
        "ee.Initialize()"
      ],
      "execution_count": 65,
      "outputs": [
        {
          "output_type": "stream",
          "text": [
            "To authorize access needed by Earth Engine, open the following URL in a web browser and follow the instructions. If the web browser does not start automatically, please manually browse the URL below.\n",
            "\n",
            "    https://accounts.google.com/o/oauth2/auth?client_id=517222506229-vsmmajv00ul0bs7p89v5m89qs8eb9359.apps.googleusercontent.com&scope=https%3A%2F%2Fwww.googleapis.com%2Fauth%2Fearthengine+https%3A%2F%2Fwww.googleapis.com%2Fauth%2Fdevstorage.full_control&redirect_uri=urn%3Aietf%3Awg%3Aoauth%3A2.0%3Aoob&response_type=code&code_challenge=9VrYo3EhdJ0ckZBNA9xP3AVdAqn0kuHyZpd8pChbn8c&code_challenge_method=S256\n",
            "\n",
            "The authorization workflow will generate a code, which you should paste in the box below. \n",
            "Enter verification code: 4/1AY0e-g5w10ycaadGeB8sAKSwPB1VnarSbxNhznS-e6q1sgmKmtiI4jFFj10\n",
            "\n",
            "Successfully saved authorization token.\n"
          ],
          "name": "stdout"
        }
      ]
    },
    {
      "cell_type": "code",
      "metadata": {
        "id": "1ppJi_1QpOoQ"
      },
      "source": [
        "#@title mapdisplay: Crea mapas interactivos usando folium\n",
        "import folium\n",
        "def mapdisplay(center, dicc, Tiles=\"OpensTreetMap\",zoom_start=10):\n",
        "    '''\n",
        "    :param center: Center of the map (Latitude and Longitude).\n",
        "    :param dicc: Earth Engine Geometries or Tiles dictionary\n",
        "    :param Tiles: Mapbox Bright,Mapbox Control Room,Stamen Terrain,Stamen Toner,stamenwatercolor,cartodbpositron.\n",
        "    :zoom_start: Initial zoom level for the map.\n",
        "    :return: A folium.Map object.\n",
        "    '''\n",
        "    center = center[::-1]\n",
        "    mapViz = folium.Map(location=center,tiles=Tiles, zoom_start=zoom_start)\n",
        "    for k,v in dicc.items():\n",
        "      if ee.image.Image in [type(x) for x in v.values()]:\n",
        "        folium.TileLayer(\n",
        "            tiles = v[\"tile_fetcher\"].url_format,\n",
        "            attr  = 'Google Earth Engine',\n",
        "            overlay =True,\n",
        "            name  = k\n",
        "          ).add_to(mapViz)\n",
        "      else:\n",
        "        folium.GeoJson(\n",
        "        data = v,\n",
        "        name = k\n",
        "          ).add_to(mapViz)\n",
        "    mapViz.add_child(folium.LayerControl())\n",
        "    return mapViz"
      ],
      "execution_count": 66,
      "outputs": []
    },
    {
      "cell_type": "code",
      "metadata": {
        "id": "vDD8JKO_dcZ7"
      },
      "source": [
        "from datetime import datetime\n",
        "import time \n",
        "\n",
        "\n",
        "PAIS= ee.FeatureCollection(\"USDOS/LSIB/2017\")\\\n",
        "         .filter(ee.Filter.eq('COUNTRY_NA', 'Mexico'))\n",
        "\n",
        "def ee_monitoring(ee_task):\n",
        "  while ee_task.active():\n",
        "    print('Sondeo de la tarea (id: {}).'.format(ee_task.id))\n",
        "    time.sleep(5)    \n",
        "    \n",
        "def rusle(roi, prefix, folder, scale):\n",
        "  \"\"\" Estima la Erosion mediante RUSLE\n",
        "  Args:\n",
        "    roi (ee.Geometry): Ambito de estudio\n",
        "    prefix: Palabra que se agregara al inicio de cada Imagen a descargar\n",
        "    folder: Folder en Google Drive donde se exportara los resultados\n",
        "    scale: Escala de trabajo del proyecto\n",
        "  \"\"\"\n",
        "\n",
        "  #-----------\n",
        "  # R factor\n",
        "  #-----------\n",
        "\n",
        "  clim_rainmap = ee.Image(\"OpenLandMap/CLM/CLM_PRECIPITATION_SM2RAIN_M/v01\").clip(PAIS)\n",
        "  year = clim_rainmap.reduce(ee.Reducer.sum())\n",
        "  R_monthly = ee.Image(10).pow(ee.Image(1.5).multiply(clim_rainmap.pow(2).divide(year).log10().subtract(-0.08188))).multiply(1.735)\n",
        "  factorR = R_monthly.reduce(ee.Reducer.sum()).rename('factorR')\n",
        "  \n",
        "  #-----------\n",
        "  # K factor\n",
        "  #-----------\n",
        "\n",
        "  # Cargamos toda la informacion necesaria para estimar el factor K\n",
        "  sand = ee.Image(\"OpenLandMap/SOL/SOL_CLAY-WFRACTION_USDA-3A1A1A_M/v02\").select('b0').clip(PAIS)\n",
        "  silt = ee.Image('users/aschwantes/SLTPPT_I').divide(100).clip(PAIS)\n",
        "  clay = ee.Image(\"OpenLandMap/SOL/SOL_SAND-WFRACTION_USDA-3A1A1A_M/v02\").select('b0').clip(PAIS)\n",
        "  morg = ee.Image(\"OpenLandMap/SOL/SOL_ORGANIC-CARBON_USDA-6A1C_M/v02\").select('b0').multiply(0.58).clip(PAIS)\n",
        "  sn1 = sand.expression('1 - b0 / 100', {'b0': sand})\n",
        "  orgcar = ee.Image(\"OpenLandMap/SOL/SOL_ORGANIC-CARBON_USDA-6A1C_M/v02\").select('b0').clip(PAIS)\n",
        "  #Juntando todas las imagenes en una sola\n",
        "  soil = ee.Image([sand, silt, clay, morg, sn1, orgcar]).rename(['sand', 'silt', 'clay', 'morg', 'sn1', 'orgcar'] )\n",
        "  factorK = soil.expression(\n",
        "    '(0.2 + 0.3 * exp(-0.0256 * SAND * (1 - (SILT / 100)))) * (1 - (0.25 * CLAY / (CLAY + exp(3.72 - 2.95 * CLAY)))) * (1 - (0.7 * SN1 / (SN1 + exp(-5.51 + 22.9 * SN1))))',\n",
        "    {\n",
        "      'SAND': soil.select('sand'),\n",
        "      'SILT': soil.select('silt'),\n",
        "      'CLAY': soil.select('clay'),\n",
        "      'MORG': soil.select('morg'),\n",
        "      'SN1':  soil.select('sn1'),\n",
        "      'CORG': soil.select('orgcar')\n",
        "    }).rename('factorK')\n",
        "  \n",
        "  #-----------\n",
        "  # LS factor\n",
        "  #-----------\n",
        "\n",
        "  facc = ee.Image(\"WWF/HydroSHEDS/15ACC\").clip(PAIS)\n",
        "  dem = ee.Image(\"WWF/HydroSHEDS/03CONDEM\").clip(PAIS)\n",
        "  slope = ee.Terrain.slope(dem)\n",
        "\n",
        "  ls_factors = ee.Image([facc, slope]).rename(['facc','slope'])\n",
        "\n",
        "  factorLS = ls_factors.expression(\n",
        "    '(FACC*270/22.13)**0.4*(SLOPE/0.0896)**1.3',\n",
        "    {\n",
        "      'FACC': ls_factors.select('facc'),\n",
        "      'SLOPE': ls_factors.select('slope')     \n",
        "    }).rename('factorLS')\n",
        "  \n",
        "  #-----------\n",
        "  # C factor\n",
        "  #-----------\n",
        "  ndvi_median = ee.ImageCollection(\"MODIS/006/MOD13A2\").filterBounds(PAIS).median().multiply(0.0001).select('NDVI').clip(PAIS)\n",
        "  factorC = ee.Image(0.805).multiply(ndvi_median).multiply(-1).add(0.431).rename('factorC')\n",
        "\n",
        "  erosion = factorC.multiply(factorR).multiply(factorLS).multiply(factorK).rename('A')\n",
        "  erosion_output= ee.Image([erosion,factorC,factorR,factorLS,factorK])\n",
        "  \n",
        "rusle(PAIS, 'RUSLE_', 'RUSLE_MASTERGIS', scale=1000)\n",
        "\n",
        "\n",
        "\n",
        "centroid = PAIS.geometry().centroid().coordinates().getInfo()\n",
        "\n",
        "paleta_ero_rusl = [\"#00BFBF\", \"#00FF00\", \"#FFFF00\", \"#FF7F00\", \"#BF7F3F\", \"#141414\"]\n",
        "\n",
        "RUSLE_pais = {'RUSLE_pais':erosion_output.select('A').getMapId({'min':0,'max': 6000,'paleta':paleta_ero_rusl})}\n",
        "\n",
        "\n",
        "mapdisplay(centroid,RUSLE,zoom_start= 6)\n",
        "\n",
        "\n"
      ],
      "execution_count": null,
      "outputs": []
    }
  ]
}